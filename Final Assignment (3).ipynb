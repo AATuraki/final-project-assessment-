{
 "cells": [
  {
   "cell_type": "markdown",
   "id": "cbceaaf3",
   "metadata": {},
   "source": [
    "<p style=\"text-align:center\">\n",
    "    <a href=\"https://skills.network/?utm_medium=Exinfluencer&utm_source=Exinfluencer&utm_content=000026UJ&utm_term=10006555&utm_id=NA-SkillsNetwork-Channel-SkillsNetworkCoursesIBMDeveloperSkillsNetworkPY0220ENSkillsNetwork900-2022-01-01\" target=\"_blank\">\n",
    "    <img src=\"https://cf-courses-data.s3.us.cloud-object-storage.appdomain.cloud/assets/logos/SN_web_lightmode.png\" width=\"200\" alt=\"Skills Network Logo\"  />\n",
    "    </a>\n",
    "</p>\n"
   ]
  },
  {
   "cell_type": "markdown",
   "id": "a3297b8f-d940-495e-b617-311976f3374a",
   "metadata": {},
   "source": [
    "<h1>Extracting and Visualizing Stock Data</h1>\n",
    "<h2>Description</h2>\n"
   ]
  },
  {
   "cell_type": "markdown",
   "id": "a63757ca-0a1f-4a61-bd6c-3c25f234e7fb",
   "metadata": {},
   "source": [
    "Extracting essential data from a dataset and displaying it is a necessary part of data science; therefore individuals can make correct decisions based on the data. In this assignment, you will extract some stock data, you will then display this data in a graph.\n"
   ]
  },
  {
   "cell_type": "markdown",
   "id": "11a783a7-56d2-4e99-97cf-ea53bfc8aa81",
   "metadata": {},
   "source": [
    "<h2>Table of Contents</h2>\n",
    "<div class=\"alert alert-block alert-info\" style=\"margin-top: 20px\">\n",
    "    <ul>\n",
    "        <li>Define a Function that Makes a Graph</li>\n",
    "        <li>Question 1: Use yfinance to Extract Stock Data</li>\n",
    "        <li>Question 2: Use Webscraping to Extract Tesla Revenue Data</li>\n",
    "        <li>Question 3: Use yfinance to Extract Stock Data</li>\n",
    "        <li>Question 4: Use Webscraping to Extract GME Revenue Data</li>\n",
    "        <li>Question 5: Plot Tesla Stock Graph</li>\n",
    "        <li>Question 6: Plot GameStop Stock Graph</li>\n",
    "    </ul>\n",
    "<p>\n",
    "    Estimated Time Needed: <strong>30 min</strong></p>\n",
    "</div>\n",
    "\n",
    "<hr>\n"
   ]
  },
  {
   "cell_type": "code",
   "execution_count": 1,
   "id": "be6e0c97-5ff6-4c62-8123-c41697152060",
   "metadata": {},
   "outputs": [
    {
     "name": "stdout",
     "output_type": "stream",
     "text": [
      "Requirement already satisfied: yfinance==0.1.67 in /home/jupyterlab/conda/envs/python/lib/python3.7/site-packages (0.1.67)\n",
      "Requirement already satisfied: pandas>=0.24 in /home/jupyterlab/conda/envs/python/lib/python3.7/site-packages (from yfinance==0.1.67) (1.3.5)\n",
      "Requirement already satisfied: requests>=2.20 in /home/jupyterlab/conda/envs/python/lib/python3.7/site-packages (from yfinance==0.1.67) (2.28.1)\n",
      "Requirement already satisfied: lxml>=4.5.1 in /home/jupyterlab/conda/envs/python/lib/python3.7/site-packages (from yfinance==0.1.67) (4.9.1)\n",
      "Requirement already satisfied: multitasking>=0.0.7 in /home/jupyterlab/conda/envs/python/lib/python3.7/site-packages (from yfinance==0.1.67) (0.0.11)\n",
      "Requirement already satisfied: numpy>=1.15 in /home/jupyterlab/conda/envs/python/lib/python3.7/site-packages (from yfinance==0.1.67) (1.21.6)\n",
      "Requirement already satisfied: python-dateutil>=2.7.3 in /home/jupyterlab/conda/envs/python/lib/python3.7/site-packages (from pandas>=0.24->yfinance==0.1.67) (2.8.2)\n",
      "Requirement already satisfied: pytz>=2017.3 in /home/jupyterlab/conda/envs/python/lib/python3.7/site-packages (from pandas>=0.24->yfinance==0.1.67) (2022.6)\n",
      "Requirement already satisfied: charset-normalizer<3,>=2 in /home/jupyterlab/conda/envs/python/lib/python3.7/site-packages (from requests>=2.20->yfinance==0.1.67) (2.1.1)\n",
      "Requirement already satisfied: certifi>=2017.4.17 in /home/jupyterlab/conda/envs/python/lib/python3.7/site-packages (from requests>=2.20->yfinance==0.1.67) (2022.12.7)\n",
      "Requirement already satisfied: urllib3<1.27,>=1.21.1 in /home/jupyterlab/conda/envs/python/lib/python3.7/site-packages (from requests>=2.20->yfinance==0.1.67) (1.26.13)\n",
      "Requirement already satisfied: idna<4,>=2.5 in /home/jupyterlab/conda/envs/python/lib/python3.7/site-packages (from requests>=2.20->yfinance==0.1.67) (3.4)\n",
      "Requirement already satisfied: six>=1.5 in /home/jupyterlab/conda/envs/python/lib/python3.7/site-packages (from python-dateutil>=2.7.3->pandas>=0.24->yfinance==0.1.67) (1.16.0)\n",
      "\n",
      "                  __    __    __    __\n",
      "                 /  \\  /  \\  /  \\  /  \\\n",
      "                /    \\/    \\/    \\/    \\\n",
      "███████████████/  /██/  /██/  /██/  /████████████████████████\n",
      "              /  / \\   / \\   / \\   / \\  \\____\n",
      "             /  /   \\_/   \\_/   \\_/   \\    o \\__,\n",
      "            / _/                       \\_____/  `\n",
      "            |/\n",
      "        ███╗   ███╗ █████╗ ███╗   ███╗██████╗  █████╗\n",
      "        ████╗ ████║██╔══██╗████╗ ████║██╔══██╗██╔══██╗\n",
      "        ██╔████╔██║███████║██╔████╔██║██████╔╝███████║\n",
      "        ██║╚██╔╝██║██╔══██║██║╚██╔╝██║██╔══██╗██╔══██║\n",
      "        ██║ ╚═╝ ██║██║  ██║██║ ╚═╝ ██║██████╔╝██║  ██║\n",
      "        ╚═╝     ╚═╝╚═╝  ╚═╝╚═╝     ╚═╝╚═════╝ ╚═╝  ╚═╝\n",
      "\n",
      "        mamba (0.15.3) supported by @QuantStack\n",
      "\n",
      "        GitHub:  https://github.com/mamba-org/mamba\n",
      "        Twitter: https://twitter.com/QuantStack\n",
      "\n",
      "█████████████████████████████████████████████████████████████\n",
      "\n",
      "\n",
      "Looking for: ['bs4==4.10.0']\n",
      "\n",
      "pkgs/main/linux-64       [>                   ] (--:--) No change\n",
      "pkgs/main/linux-64       [====================] (00m:00s) No change\n",
      "pkgs/r/linux-64          [>                   ] (--:--) No change\n",
      "pkgs/r/linux-64          [====================] (00m:00s) No change\n",
      "pkgs/main/noarch         [>                   ] (--:--) No change\n",
      "pkgs/main/noarch         [====================] (00m:00s) No change\n",
      "pkgs/r/noarch            [>                   ] (--:--) No change\n",
      "pkgs/r/noarch            [====================] (00m:00s) No change\n",
      "\n",
      "Pinned packages:\n",
      "  - python 3.7.*\n",
      "\n",
      "\n",
      "Transaction\n",
      "\n",
      "  Prefix: /home/jupyterlab/conda/envs/python\n",
      "\n",
      "  All requested packages already installed\n",
      "\n",
      "Requirement already satisfied: nbformat==4.2.0 in /home/jupyterlab/conda/envs/python/lib/python3.7/site-packages (4.2.0)\n",
      "Requirement already satisfied: jupyter-core in /home/jupyterlab/conda/envs/python/lib/python3.7/site-packages (from nbformat==4.2.0) (4.12.0)\n",
      "Requirement already satisfied: traitlets>=4.1 in /home/jupyterlab/conda/envs/python/lib/python3.7/site-packages (from nbformat==4.2.0) (5.6.0)\n",
      "Requirement already satisfied: jsonschema!=2.5.0,>=2.4 in /home/jupyterlab/conda/envs/python/lib/python3.7/site-packages (from nbformat==4.2.0) (4.17.3)\n",
      "Requirement already satisfied: ipython-genutils in /home/jupyterlab/conda/envs/python/lib/python3.7/site-packages (from nbformat==4.2.0) (0.2.0)\n",
      "Requirement already satisfied: importlib-resources>=1.4.0 in /home/jupyterlab/conda/envs/python/lib/python3.7/site-packages (from jsonschema!=2.5.0,>=2.4->nbformat==4.2.0) (5.10.1)\n",
      "Requirement already satisfied: attrs>=17.4.0 in /home/jupyterlab/conda/envs/python/lib/python3.7/site-packages (from jsonschema!=2.5.0,>=2.4->nbformat==4.2.0) (22.1.0)\n",
      "Requirement already satisfied: pkgutil-resolve-name>=1.3.10 in /home/jupyterlab/conda/envs/python/lib/python3.7/site-packages (from jsonschema!=2.5.0,>=2.4->nbformat==4.2.0) (1.3.10)\n",
      "Requirement already satisfied: typing-extensions in /home/jupyterlab/conda/envs/python/lib/python3.7/site-packages (from jsonschema!=2.5.0,>=2.4->nbformat==4.2.0) (4.4.0)\n",
      "Requirement already satisfied: importlib-metadata in /home/jupyterlab/conda/envs/python/lib/python3.7/site-packages (from jsonschema!=2.5.0,>=2.4->nbformat==4.2.0) (4.11.4)\n",
      "Requirement already satisfied: pyrsistent!=0.17.0,!=0.17.1,!=0.17.2,>=0.14.0 in /home/jupyterlab/conda/envs/python/lib/python3.7/site-packages (from jsonschema!=2.5.0,>=2.4->nbformat==4.2.0) (0.19.2)\n",
      "Requirement already satisfied: zipp>=3.1.0 in /home/jupyterlab/conda/envs/python/lib/python3.7/site-packages (from importlib-resources>=1.4.0->jsonschema!=2.5.0,>=2.4->nbformat==4.2.0) (3.11.0)\n"
     ]
    }
   ],
   "source": [
    "!pip install yfinance==0.1.67\n",
    "!mamba install bs4==4.10.0 -y\n",
    "!pip install nbformat==4.2.0"
   ]
  },
  {
   "cell_type": "code",
   "execution_count": 17,
   "id": "9860fee0-de38-4cd2-936b-7479745b0f4e",
   "metadata": {},
   "outputs": [],
   "source": [
    "import yfinance as yf\n",
    "import pandas as pd\n",
    "import requests\n",
    "from bs4 import BeautifulSoup\n",
    "import plotly.graph_objects as go\n",
    "from plotly.subplots import make_subplots"
   ]
  },
  {
   "cell_type": "markdown",
   "id": "c2d6a13c-efae-4024-85e5-4edda1895c92",
   "metadata": {},
   "source": [
    "## Define Graphing Function\n"
   ]
  },
  {
   "cell_type": "markdown",
   "id": "4c0e1b5f-6137-4d71-b130-5aabd2cfb7f5",
   "metadata": {},
   "source": [
    "In this section, we define the function `make_graph`. You don't have to know how the function works, you should only care about the inputs. It takes a dataframe with stock data (dataframe must contain Date and Close columns), a dataframe with revenue data (dataframe must contain Date and Revenue columns), and the name of the stock.\n"
   ]
  },
  {
   "cell_type": "code",
   "execution_count": 18,
   "id": "0dcaaa5e-e5ed-4337-beb4-134b5da043d6",
   "metadata": {},
   "outputs": [],
   "source": [
    "def make_graph(stock_data, revenue_data, stock):\n",
    "    fig = make_subplots(rows=2, cols=1, shared_xaxes=True, subplot_titles=(\"Historical Share Price\", \"Historical Revenue\"), vertical_spacing = .3)\n",
    "    stock_data_specific = stock_data[stock_data.Date <= '2021--06-14']\n",
    "    revenue_data_specific = revenue_data[revenue_data.Date <= '2021-04-30']\n",
    "    fig.add_trace(go.Scatter(x=pd.to_datetime(stock_data_specific.Date, infer_datetime_format=True), y=stock_data_specific.Close.astype(\"float\"), name=\"Share Price\"), row=1, col=1)\n",
    "    fig.add_trace(go.Scatter(x=pd.to_datetime(revenue_data_specific.Date, infer_datetime_format=True), y=revenue_data_specific.Revenue.astype(\"float\"), name=\"Revenue\"), row=2, col=1)\n",
    "    fig.update_xaxes(title_text=\"Date\", row=1, col=1)\n",
    "    fig.update_xaxes(title_text=\"Date\", row=2, col=1)\n",
    "    fig.update_yaxes(title_text=\"Price ($US)\", row=1, col=1)\n",
    "    fig.update_yaxes(title_text=\"Revenue ($US Millions)\", row=2, col=1)\n",
    "    fig.update_layout(showlegend=False,\n",
    "    height=900,\n",
    "    title=stock,\n",
    "    xaxis_rangeslider_visible=True)\n",
    "    fig.show()"
   ]
  },
  {
   "cell_type": "markdown",
   "id": "fbaa3d01-1420-4087-9d79-3a56522c1610",
   "metadata": {},
   "source": [
    "## Question 1: Use yfinance to Extract Stock Data\n"
   ]
  },
  {
   "cell_type": "markdown",
   "id": "d574fd10-1aab-4e46-a924-53d028709d24",
   "metadata": {},
   "source": [
    "Using the `Ticker` function enter the ticker symbol of the stock we want to extract data on to create a ticker object. The stock is Tesla and its ticker symbol is `TSLA`.\n"
   ]
  },
  {
   "cell_type": "code",
   "execution_count": 19,
   "id": "408e0d71-3e76-4731-8cb0-60e7efd7c9ae",
   "metadata": {},
   "outputs": [],
   "source": [
    "tesla = yf.Ticker('TSLA')"
   ]
  },
  {
   "cell_type": "markdown",
   "id": "13c78686-b22b-490c-acac-b66d49024e46",
   "metadata": {},
   "source": [
    "Using the ticker object and the function `history` extract stock information and save it in a dataframe named `tesla_data`. Set the `period` parameter to `max` so we get information for the maximum amount of time.\n"
   ]
  },
  {
   "cell_type": "code",
   "execution_count": 20,
   "id": "7f9763e4-9122-41ec-9443-a53343c59b60",
   "metadata": {},
   "outputs": [],
   "source": [
    "tesla_data = tesla.history(period='max')"
   ]
  },
  {
   "cell_type": "markdown",
   "id": "15032e00-90d7-455e-adcd-a1eeec54d6e0",
   "metadata": {},
   "source": [
    "**Reset the index** using the `reset_index(inplace=True)` function on the tesla_data DataFrame and display the first five rows of the `tesla_data` dataframe using the `head` function. Take a screenshot of the results and code from the beginning of Question 1 to the results below.\n"
   ]
  },
  {
   "cell_type": "code",
   "execution_count": 21,
   "id": "0123c47b-8378-4c7f-99be-80e571416ebd",
   "metadata": {},
   "outputs": [
    {
     "name": "stdout",
     "output_type": "stream",
     "text": [
      "        Date      Open      High       Low     Close     Volume  Dividends  \\\n",
      "0 2010-06-29  1.266667  1.666667  1.169333  1.592667  281494500          0   \n",
      "1 2010-06-30  1.719333  2.028000  1.553333  1.588667  257806500          0   \n",
      "2 2010-07-01  1.666667  1.728000  1.351333  1.464000  123282000          0   \n",
      "3 2010-07-02  1.533333  1.540000  1.247333  1.280000   77097000          0   \n",
      "4 2010-07-06  1.333333  1.333333  1.055333  1.074000  103003500          0   \n",
      "\n",
      "   Stock Splits  \n",
      "0           0.0  \n",
      "1           0.0  \n",
      "2           0.0  \n",
      "3           0.0  \n",
      "4           0.0  \n"
     ]
    }
   ],
   "source": [
    "tesla_data.reset_index(inplace=True)\n",
    "print(tesla_data.head())"
   ]
  },
  {
   "cell_type": "markdown",
   "id": "b94b5dab-a6f1-40eb-b836-0062988464db",
   "metadata": {},
   "source": [
    "## Question 2: Use Webscraping to Extract Tesla Revenue Data\n"
   ]
  },
  {
   "cell_type": "markdown",
   "id": "10c4befd-c47e-4592-a72e-7c0b5c678068",
   "metadata": {},
   "source": [
    "Use the `requests` library to download the webpage https://cf-courses-data.s3.us.cloud-object-storage.appdomain.cloud/IBMDeveloperSkillsNetwork-PY0220EN-SkillsNetwork/labs/project/revenue.htm Save the text of the response as a variable named `html_data`.\n"
   ]
  },
  {
   "cell_type": "code",
   "execution_count": 22,
   "id": "f65ee884-d9a1-424a-bcb2-bab7e3fbc53f",
   "metadata": {},
   "outputs": [],
   "source": [
    "import requests\n",
    "\n",
    "url = 'https://cf-courses-data.s3.us.cloud-object-storage.appdomain.cloud/IBMDeveloperSkillsNetwork-PY0220EN-SkillsNetwork/labs/project/revenue.htm'\n",
    "\n",
    "response = requests.get(url)\n",
    "\n",
    "html_data = response.text\n"
   ]
  },
  {
   "cell_type": "markdown",
   "id": "e08fb22f-128a-4f99-8344-dd18d6279ab6",
   "metadata": {},
   "source": [
    "Parse the html data using `beautiful_soup`.\n"
   ]
  },
  {
   "cell_type": "code",
   "execution_count": 23,
   "id": "208b38b4-260c-4098-9b1e-9e88baed91c7",
   "metadata": {},
   "outputs": [],
   "source": [
    "from bs4 import BeautifulSoup\n",
    "\n",
    "soup = BeautifulSoup(html_data, 'html.parser')\n"
   ]
  },
  {
   "cell_type": "markdown",
   "id": "2beb668c-ce60-4121-96fc-0aa47465f941",
   "metadata": {},
   "source": [
    "Using `BeautifulSoup` or the `read_html` function extract the table with `Tesla Quarterly Revenue` and store it into a dataframe named `tesla_revenue`. The dataframe should have columns `Date` and `Revenue`.\n"
   ]
  },
  {
   "cell_type": "markdown",
   "id": "e6d73b96-e834-49d0-a325-4341ab772ad8",
   "metadata": {},
   "source": [
    "<details><summary>Click here if you need help locating the table</summary>\n",
    "\n",
    "```\n",
    "    \n",
    "Below is the code to isolate the table, you will now need to loop through the rows and columns like in the previous lab\n",
    "    \n",
    "soup.find_all(\"tbody\")[1]\n",
    "    \n",
    "If you want to use the read_html function the table is located at index 1\n",
    "\n",
    "\n",
    "```\n",
    "\n",
    "</details>\n"
   ]
  },
  {
   "cell_type": "code",
   "execution_count": 24,
   "id": "cd2a6e7c-8f63-48d6-b335-533af47912b3",
   "metadata": {},
   "outputs": [],
   "source": [
    "import pandas as pd\n",
    "from bs4 import BeautifulSoup\n",
    "soup = BeautifulSoup(html_data, 'html.parser')\n",
    "table = soup.find('table', {'class': 'tesla quarterly-revenue-table'})"
   ]
  },
  {
   "cell_type": "code",
   "execution_count": 25,
   "id": "a7470c39-d7c6-45a2-9fa8-0a9abca019e2",
   "metadata": {},
   "outputs": [],
   "source": [
    "tesla_revenue = pd.DataFrame(tesla_data, columns=['Date', 'Revenue'])"
   ]
  },
  {
   "cell_type": "markdown",
   "id": "621993b9-01da-48e3-a3e3-d65364683bae",
   "metadata": {},
   "source": [
    "Execute the following line to remove the comma and dollar sign from the `Revenue` column. \n"
   ]
  },
  {
   "cell_type": "code",
   "execution_count": 26,
   "id": "95d684da-d07c-4167-bcbf-6eebb5be15d3",
   "metadata": {},
   "outputs": [
    {
     "name": "stdout",
     "output_type": "stream",
     "text": [
      "[nan]\n"
     ]
    }
   ],
   "source": [
    "print(tesla_revenue['Revenue'].unique())"
   ]
  },
  {
   "cell_type": "markdown",
   "id": "92e23a47-3512-489a-b2da-7d596cee444d",
   "metadata": {},
   "source": [
    "Execute the following lines to remove an null or empty strings in the Revenue column.\n"
   ]
  },
  {
   "cell_type": "code",
   "execution_count": 27,
   "id": "3f14fcdc-450c-4fba-82da-a56ec62ac81d",
   "metadata": {},
   "outputs": [],
   "source": [
    "tesla_revenue.dropna(inplace=True)\n",
    "\n",
    "tesla_revenue = tesla_revenue[tesla_revenue['Revenue'] != \"\"]"
   ]
  },
  {
   "cell_type": "markdown",
   "id": "e64f6be4-8b4f-4077-b7dc-03ce2c2df456",
   "metadata": {},
   "source": [
    "Display the last 5 row of the `tesla_revenue` dataframe using the `tail` function. Take a screenshot of the results.\n"
   ]
  },
  {
   "cell_type": "code",
   "execution_count": 28,
   "id": "3676dbd9-97ce-4fb8-945c-ca96db5d28d5",
   "metadata": {},
   "outputs": [
    {
     "data": {
      "text/html": [
       "<div>\n",
       "<style scoped>\n",
       "    .dataframe tbody tr th:only-of-type {\n",
       "        vertical-align: middle;\n",
       "    }\n",
       "\n",
       "    .dataframe tbody tr th {\n",
       "        vertical-align: top;\n",
       "    }\n",
       "\n",
       "    .dataframe thead th {\n",
       "        text-align: right;\n",
       "    }\n",
       "</style>\n",
       "<table border=\"1\" class=\"dataframe\">\n",
       "  <thead>\n",
       "    <tr style=\"text-align: right;\">\n",
       "      <th></th>\n",
       "      <th>Date</th>\n",
       "      <th>Revenue</th>\n",
       "    </tr>\n",
       "  </thead>\n",
       "  <tbody>\n",
       "  </tbody>\n",
       "</table>\n",
       "</div>"
      ],
      "text/plain": [
       "Empty DataFrame\n",
       "Columns: [Date, Revenue]\n",
       "Index: []"
      ]
     },
     "execution_count": 28,
     "metadata": {},
     "output_type": "execute_result"
    }
   ],
   "source": [
    "tesla_revenue.tail(5)\n"
   ]
  },
  {
   "cell_type": "markdown",
   "id": "6ef322a4-e492-4e0e-a514-5122180f8654",
   "metadata": {},
   "source": [
    "## Question 3: Use yfinance to Extract Stock Data\n"
   ]
  },
  {
   "cell_type": "markdown",
   "id": "662635b8-6df0-4db5-a536-a82e6dff05dc",
   "metadata": {},
   "source": [
    "Using the `Ticker` function enter the ticker symbol of the stock we want to extract data on to create a ticker object. The stock is GameStop and its ticker symbol is `GME`.\n"
   ]
  },
  {
   "cell_type": "code",
   "execution_count": 29,
   "id": "f45e0206-d410-44f7-869f-f5e8d6985de0",
   "metadata": {},
   "outputs": [],
   "source": [
    "gme = yf.Ticker(\"GME\")\n"
   ]
  },
  {
   "cell_type": "markdown",
   "id": "2f9983cb-a323-4f8e-8ff6-e5af19e10286",
   "metadata": {},
   "source": [
    "Using the ticker object and the function `history` extract stock information and save it in a dataframe named `gme_data`. Set the `period` parameter to `max` so we get information for the maximum amount of time.\n"
   ]
  },
  {
   "cell_type": "code",
   "execution_count": 30,
   "id": "5da839c4-31ae-49aa-ace9-fdebade2eb3b",
   "metadata": {},
   "outputs": [],
   "source": [
    "gme_data = gme.history(period=\"max\")\n"
   ]
  },
  {
   "cell_type": "markdown",
   "id": "1620f225-e2d6-4ba8-ac99-9e701fdcdea0",
   "metadata": {},
   "source": [
    "**Reset the index** using the `reset_index(inplace=True)` function on the gme_data DataFrame and display the first five rows of the `gme_data` dataframe using the `head` function. Take a screenshot of the results and code from the beginning of Question 3 to the results below.\n"
   ]
  },
  {
   "cell_type": "code",
   "execution_count": 31,
   "id": "e5dbf4a7-d32e-412b-b6c5-1b22fd5944ed",
   "metadata": {},
   "outputs": [
    {
     "name": "stdout",
     "output_type": "stream",
     "text": [
      "        Date      Open      High       Low     Close    Volume  Dividends  \\\n",
      "0 2002-02-13  1.620129  1.693350  1.603296  1.691667  76216000        0.0   \n",
      "1 2002-02-14  1.712707  1.716074  1.670626  1.683250  11021600        0.0   \n",
      "2 2002-02-15  1.683250  1.687458  1.658002  1.674834   8389600        0.0   \n",
      "3 2002-02-19  1.666418  1.666418  1.578047  1.607504   7410400        0.0   \n",
      "4 2002-02-20  1.615921  1.662210  1.603296  1.662210   6892800        0.0   \n",
      "\n",
      "   Stock Splits  \n",
      "0           0.0  \n",
      "1           0.0  \n",
      "2           0.0  \n",
      "3           0.0  \n",
      "4           0.0  \n"
     ]
    }
   ],
   "source": [
    "gme_data = gme.history(period=\"max\")\n",
    "gme_data.reset_index(inplace=True)\n",
    "print(gme_data.head())\n"
   ]
  },
  {
   "cell_type": "markdown",
   "id": "96df5f96-275e-47fb-9f39-509e09adbab6",
   "metadata": {},
   "source": [
    "## Question 4: Use Webscraping to Extract GME Revenue Data\n"
   ]
  },
  {
   "cell_type": "markdown",
   "id": "d40ea356-9393-4bf7-a67f-f95741863ad7",
   "metadata": {},
   "source": [
    "Use the `requests` library to download the webpage https://cf-courses-data.s3.us.cloud-object-storage.appdomain.cloud/IBMDeveloperSkillsNetwork-PY0220EN-SkillsNetwork/labs/project/stock.html. Save the text of the response as a variable named `html_data`.\n"
   ]
  },
  {
   "cell_type": "code",
   "execution_count": 32,
   "id": "35ddd411-d1c1-4a06-9f2e-b1a31566ef2c",
   "metadata": {},
   "outputs": [],
   "source": [
    "import requests\n",
    "\n",
    "url = \"https://cf-courses-data.s3.us.cloud-object-storage.appdomain.cloud/IBMDeveloperSkillsNetwork-PY0220EN-SkillsNetwork/labs/project/stock.html\"\n",
    "response = requests.get(url)\n",
    "html_data = response.text\n"
   ]
  },
  {
   "cell_type": "code",
   "execution_count": 33,
   "id": "869ba778-384f-4e40-a84a-a238ddbf9f53",
   "metadata": {},
   "outputs": [],
   "source": [
    "import requests\n",
    "\n",
    "url = \"https://cf-courses-data.s3.us.cloud-object-storage.appdomain.cloud/IBMDeveloperSkillsNetwork-PY0220EN-SkillsNetwork/labs/project/stock.html\"\n",
    "\n",
    "for i in range(5):\n",
    "    response = requests.get(url)\n",
    "    html_data = response.text\n",
    "    "
   ]
  },
  {
   "cell_type": "markdown",
   "id": "18de3ace-3412-47aa-ae7f-97d486debff9",
   "metadata": {},
   "source": [
    "Parse the html data using `beautiful_soup`.\n"
   ]
  },
  {
   "cell_type": "code",
   "execution_count": 34,
   "id": "c932e23d-cd21-4e85-afc8-7e3193134d74",
   "metadata": {},
   "outputs": [],
   "source": [
    "from bs4 import BeautifulSoup\n",
    "\n",
    "soup = BeautifulSoup(html_data, 'html.parser')\n"
   ]
  },
  {
   "cell_type": "markdown",
   "id": "2b8e8a88-b39e-4ca0-82e7-d833cf090e85",
   "metadata": {},
   "source": [
    "Using `BeautifulSoup` or the `read_html` function extract the table with `GameStop Quarterly Revenue` and store it into a dataframe named `gme_revenue`. The dataframe should have columns `Date` and `Revenue`. Make sure the comma and dollar sign is removed from the `Revenue` column using a method similar to what you did in Question 2.\n"
   ]
  },
  {
   "cell_type": "markdown",
   "id": "2c7f53d6-b641-4f2a-b7c0-09946f07300f",
   "metadata": {},
   "source": [
    "<details><summary>Click here if you need help locating the table</summary>\n",
    "\n",
    "```\n",
    "    \n",
    "Below is the code to isolate the table, you will now need to loop through the rows and columns like in the previous lab\n",
    "    \n",
    "soup.find_all(\"tbody\")[1]\n",
    "    \n",
    "If you want to use the read_html function the table is located at index 1\n",
    "\n",
    "\n",
    "```\n",
    "\n",
    "</details>\n"
   ]
  },
  {
   "cell_type": "code",
   "execution_count": 35,
   "id": "e957eb49-3eb5-4832-aa41-c992636b6a6e",
   "metadata": {},
   "outputs": [],
   "source": [
    "import pandas as pd\n",
    "from bs4 import BeautifulSoup\n",
    "soup = BeautifulSoup(html_data, 'html.parser')\n",
    "table = soup.find('table', {'class': 'GameStop quarterly-revenue-table'})\n",
    "gme_revenue = pd.DataFrame(columns=['Date', 'Revenue'])"
   ]
  },
  {
   "cell_type": "code",
   "execution_count": 36,
   "id": "efacb536-615c-42ad-80b0-8a9668c045e8",
   "metadata": {},
   "outputs": [],
   "source": [
    "gme_revenue[\"Revenue\"] = gme_revenue['Revenue'].str.strip().str.replace(',|\\$',\"\", regex=False)\n"
   ]
  },
  {
   "cell_type": "code",
   "execution_count": 37,
   "id": "0435b643-007e-4713-bf52-f3bc2d3fc611",
   "metadata": {},
   "outputs": [
    {
     "data": {
      "text/plain": [
       "<tbody>\n",
       "<tr>\n",
       "<td style=\"text-align:center\">2020-04-30</td>\n",
       "<td style=\"text-align:center\">$1,021</td>\n",
       "</tr>\n",
       "<tr>\n",
       "<td style=\"text-align:center\">2020-01-31</td>\n",
       "<td style=\"text-align:center\">$2,194</td>\n",
       "</tr>\n",
       "<tr>\n",
       "<td style=\"text-align:center\">2019-10-31</td>\n",
       "<td style=\"text-align:center\">$1,439</td>\n",
       "</tr>\n",
       "<tr>\n",
       "<td style=\"text-align:center\">2019-07-31</td>\n",
       "<td style=\"text-align:center\">$1,286</td>\n",
       "</tr>\n",
       "<tr>\n",
       "<td style=\"text-align:center\">2019-04-30</td>\n",
       "<td style=\"text-align:center\">$1,548</td>\n",
       "</tr>\n",
       "<tr>\n",
       "<td style=\"text-align:center\">2019-01-31</td>\n",
       "<td style=\"text-align:center\">$3,063</td>\n",
       "</tr>\n",
       "<tr>\n",
       "<td style=\"text-align:center\">2018-10-31</td>\n",
       "<td style=\"text-align:center\">$1,935</td>\n",
       "</tr>\n",
       "<tr>\n",
       "<td style=\"text-align:center\">2018-07-31</td>\n",
       "<td style=\"text-align:center\">$1,501</td>\n",
       "</tr>\n",
       "<tr>\n",
       "<td style=\"text-align:center\">2018-04-30</td>\n",
       "<td style=\"text-align:center\">$1,786</td>\n",
       "</tr>\n",
       "<tr>\n",
       "<td style=\"text-align:center\">2018-01-31</td>\n",
       "<td style=\"text-align:center\">$2,825</td>\n",
       "</tr>\n",
       "<tr>\n",
       "<td style=\"text-align:center\">2017-10-31</td>\n",
       "<td style=\"text-align:center\">$1,989</td>\n",
       "</tr>\n",
       "<tr>\n",
       "<td style=\"text-align:center\">2017-07-31</td>\n",
       "<td style=\"text-align:center\">$1,688</td>\n",
       "</tr>\n",
       "<tr>\n",
       "<td style=\"text-align:center\">2017-04-30</td>\n",
       "<td style=\"text-align:center\">$2,046</td>\n",
       "</tr>\n",
       "<tr>\n",
       "<td style=\"text-align:center\">2017-01-31</td>\n",
       "<td style=\"text-align:center\">$2,403</td>\n",
       "</tr>\n",
       "<tr>\n",
       "<td style=\"text-align:center\">2016-10-31</td>\n",
       "<td style=\"text-align:center\">$1,959</td>\n",
       "</tr>\n",
       "<tr>\n",
       "<td style=\"text-align:center\">2016-07-31</td>\n",
       "<td style=\"text-align:center\">$1,632</td>\n",
       "</tr>\n",
       "<tr>\n",
       "<td style=\"text-align:center\">2016-04-30</td>\n",
       "<td style=\"text-align:center\">$1,972</td>\n",
       "</tr>\n",
       "<tr>\n",
       "<td style=\"text-align:center\">2016-01-31</td>\n",
       "<td style=\"text-align:center\">$3,525</td>\n",
       "</tr>\n",
       "<tr>\n",
       "<td style=\"text-align:center\">2015-10-31</td>\n",
       "<td style=\"text-align:center\">$2,016</td>\n",
       "</tr>\n",
       "<tr>\n",
       "<td style=\"text-align:center\">2015-07-31</td>\n",
       "<td style=\"text-align:center\">$1,762</td>\n",
       "</tr>\n",
       "<tr>\n",
       "<td style=\"text-align:center\">2015-04-30</td>\n",
       "<td style=\"text-align:center\">$2,061</td>\n",
       "</tr>\n",
       "<tr>\n",
       "<td style=\"text-align:center\">2015-01-31</td>\n",
       "<td style=\"text-align:center\">$3,476</td>\n",
       "</tr>\n",
       "<tr>\n",
       "<td style=\"text-align:center\">2014-10-31</td>\n",
       "<td style=\"text-align:center\">$2,092</td>\n",
       "</tr>\n",
       "<tr>\n",
       "<td style=\"text-align:center\">2014-07-31</td>\n",
       "<td style=\"text-align:center\">$1,731</td>\n",
       "</tr>\n",
       "<tr>\n",
       "<td style=\"text-align:center\">2014-04-30</td>\n",
       "<td style=\"text-align:center\">$1,996</td>\n",
       "</tr>\n",
       "<tr>\n",
       "<td style=\"text-align:center\">2014-01-31</td>\n",
       "<td style=\"text-align:center\">$3,684</td>\n",
       "</tr>\n",
       "<tr>\n",
       "<td style=\"text-align:center\">2013-10-31</td>\n",
       "<td style=\"text-align:center\">$2,107</td>\n",
       "</tr>\n",
       "<tr>\n",
       "<td style=\"text-align:center\">2013-07-31</td>\n",
       "<td style=\"text-align:center\">$1,384</td>\n",
       "</tr>\n",
       "<tr>\n",
       "<td style=\"text-align:center\">2013-04-30</td>\n",
       "<td style=\"text-align:center\">$1,865</td>\n",
       "</tr>\n",
       "<tr>\n",
       "<td style=\"text-align:center\">2013-01-31</td>\n",
       "<td style=\"text-align:center\">$3,562</td>\n",
       "</tr>\n",
       "<tr>\n",
       "<td style=\"text-align:center\">2012-10-31</td>\n",
       "<td style=\"text-align:center\">$1,773</td>\n",
       "</tr>\n",
       "<tr>\n",
       "<td style=\"text-align:center\">2012-07-31</td>\n",
       "<td style=\"text-align:center\">$1,550</td>\n",
       "</tr>\n",
       "<tr>\n",
       "<td style=\"text-align:center\">2012-04-30</td>\n",
       "<td style=\"text-align:center\">$2,002</td>\n",
       "</tr>\n",
       "<tr>\n",
       "<td style=\"text-align:center\">2012-01-31</td>\n",
       "<td style=\"text-align:center\">$3,579</td>\n",
       "</tr>\n",
       "<tr>\n",
       "<td style=\"text-align:center\">2011-10-31</td>\n",
       "<td style=\"text-align:center\">$1,947</td>\n",
       "</tr>\n",
       "<tr>\n",
       "<td style=\"text-align:center\">2011-07-31</td>\n",
       "<td style=\"text-align:center\">$1,744</td>\n",
       "</tr>\n",
       "<tr>\n",
       "<td style=\"text-align:center\">2011-04-30</td>\n",
       "<td style=\"text-align:center\">$2,281</td>\n",
       "</tr>\n",
       "<tr>\n",
       "<td style=\"text-align:center\">2011-01-31</td>\n",
       "<td style=\"text-align:center\">$3,693</td>\n",
       "</tr>\n",
       "<tr>\n",
       "<td style=\"text-align:center\">2010-10-31</td>\n",
       "<td style=\"text-align:center\">$1,899</td>\n",
       "</tr>\n",
       "<tr>\n",
       "<td style=\"text-align:center\">2010-07-31</td>\n",
       "<td style=\"text-align:center\">$1,799</td>\n",
       "</tr>\n",
       "<tr>\n",
       "<td style=\"text-align:center\">2010-04-30</td>\n",
       "<td style=\"text-align:center\">$2,083</td>\n",
       "</tr>\n",
       "<tr>\n",
       "<td style=\"text-align:center\">2010-01-31</td>\n",
       "<td style=\"text-align:center\">$3,524</td>\n",
       "</tr>\n",
       "<tr>\n",
       "<td style=\"text-align:center\">2009-10-31</td>\n",
       "<td style=\"text-align:center\">$1,835</td>\n",
       "</tr>\n",
       "<tr>\n",
       "<td style=\"text-align:center\">2009-07-31</td>\n",
       "<td style=\"text-align:center\">$1,739</td>\n",
       "</tr>\n",
       "<tr>\n",
       "<td style=\"text-align:center\">2009-04-30</td>\n",
       "<td style=\"text-align:center\">$1,981</td>\n",
       "</tr>\n",
       "<tr>\n",
       "<td style=\"text-align:center\">2009-01-31</td>\n",
       "<td style=\"text-align:center\">$3,492</td>\n",
       "</tr>\n",
       "<tr>\n",
       "<td style=\"text-align:center\">2008-10-31</td>\n",
       "<td style=\"text-align:center\">$1,696</td>\n",
       "</tr>\n",
       "<tr>\n",
       "<td style=\"text-align:center\">2008-07-31</td>\n",
       "<td style=\"text-align:center\">$1,804</td>\n",
       "</tr>\n",
       "<tr>\n",
       "<td style=\"text-align:center\">2008-04-30</td>\n",
       "<td style=\"text-align:center\">$1,814</td>\n",
       "</tr>\n",
       "<tr>\n",
       "<td style=\"text-align:center\">2008-01-31</td>\n",
       "<td style=\"text-align:center\">$2,866</td>\n",
       "</tr>\n",
       "<tr>\n",
       "<td style=\"text-align:center\">2007-10-31</td>\n",
       "<td style=\"text-align:center\">$1,611</td>\n",
       "</tr>\n",
       "<tr>\n",
       "<td style=\"text-align:center\">2007-07-31</td>\n",
       "<td style=\"text-align:center\">$1,338</td>\n",
       "</tr>\n",
       "<tr>\n",
       "<td style=\"text-align:center\">2007-04-30</td>\n",
       "<td style=\"text-align:center\">$1,279</td>\n",
       "</tr>\n",
       "<tr>\n",
       "<td style=\"text-align:center\">2007-01-31</td>\n",
       "<td style=\"text-align:center\">$2,304</td>\n",
       "</tr>\n",
       "<tr>\n",
       "<td style=\"text-align:center\">2006-10-31</td>\n",
       "<td style=\"text-align:center\">$1,012</td>\n",
       "</tr>\n",
       "<tr>\n",
       "<td style=\"text-align:center\">2006-07-31</td>\n",
       "<td style=\"text-align:center\">$963</td>\n",
       "</tr>\n",
       "<tr>\n",
       "<td style=\"text-align:center\">2006-04-30</td>\n",
       "<td style=\"text-align:center\">$1,040</td>\n",
       "</tr>\n",
       "<tr>\n",
       "<td style=\"text-align:center\">2006-01-31</td>\n",
       "<td style=\"text-align:center\">$1,667</td>\n",
       "</tr>\n",
       "<tr>\n",
       "<td style=\"text-align:center\">2005-10-31</td>\n",
       "<td style=\"text-align:center\">$534</td>\n",
       "</tr>\n",
       "<tr>\n",
       "<td style=\"text-align:center\">2005-07-31</td>\n",
       "<td style=\"text-align:center\">$416</td>\n",
       "</tr>\n",
       "<tr>\n",
       "<td style=\"text-align:center\">2005-04-30</td>\n",
       "<td style=\"text-align:center\">$475</td>\n",
       "</tr>\n",
       "<tr>\n",
       "<td style=\"text-align:center\">2005-01-31</td>\n",
       "<td style=\"text-align:center\">$709</td>\n",
       "</tr>\n",
       "</tbody>"
      ]
     },
     "execution_count": 37,
     "metadata": {},
     "output_type": "execute_result"
    }
   ],
   "source": [
    "soup.find_all(\"tbody\")[1]"
   ]
  },
  {
   "cell_type": "markdown",
   "id": "bf5f0a15-d2bc-48e0-9899-4020ed99dbd7",
   "metadata": {},
   "source": [
    "Display the last five rows of the `gme_revenue` dataframe using the `tail` function. Take a screenshot of the results.\n"
   ]
  },
  {
   "cell_type": "code",
   "execution_count": 38,
   "id": "fce8dbe5-c305-48f4-aecb-487126ac37b3",
   "metadata": {},
   "outputs": [
    {
     "data": {
      "text/html": [
       "<div>\n",
       "<style scoped>\n",
       "    .dataframe tbody tr th:only-of-type {\n",
       "        vertical-align: middle;\n",
       "    }\n",
       "\n",
       "    .dataframe tbody tr th {\n",
       "        vertical-align: top;\n",
       "    }\n",
       "\n",
       "    .dataframe thead th {\n",
       "        text-align: right;\n",
       "    }\n",
       "</style>\n",
       "<table border=\"1\" class=\"dataframe\">\n",
       "  <thead>\n",
       "    <tr style=\"text-align: right;\">\n",
       "      <th></th>\n",
       "      <th>Date</th>\n",
       "      <th>Revenue</th>\n",
       "    </tr>\n",
       "  </thead>\n",
       "  <tbody>\n",
       "  </tbody>\n",
       "</table>\n",
       "</div>"
      ],
      "text/plain": [
       "Empty DataFrame\n",
       "Columns: [Date, Revenue]\n",
       "Index: []"
      ]
     },
     "execution_count": 38,
     "metadata": {},
     "output_type": "execute_result"
    }
   ],
   "source": [
    "gme_revenue.tail(5)"
   ]
  },
  {
   "cell_type": "markdown",
   "id": "9f78c13c-8932-446f-bb66-7f278b559d3e",
   "metadata": {},
   "source": [
    "## Question 5: Plot Tesla Stock Graph\n"
   ]
  },
  {
   "cell_type": "markdown",
   "id": "f149575a-faf8-41bc-8c35-7b17b7928d89",
   "metadata": {},
   "source": [
    "Use the `make_graph` function to graph the Tesla Stock Data, also provide a title for the graph. The structure to call the `make_graph` function is `make_graph(tesla_data, tesla_revenue, 'Tesla')`. Note the graph will only show data upto June 2021.\n"
   ]
  },
  {
   "cell_type": "code",
   "execution_count": 39,
   "id": "2e8b0748-6009-41b2-8e33-a1d855f7e4fd",
   "metadata": {},
   "outputs": [],
   "source": [
    "import matplotlib.pyplot as plt\n",
    "\n",
    "def make_graph(stock_data, revenue_data, stock_name):\n",
    "    fig, ax1 = plt.subplots()\n",
    "    ax1.plot(stock_data['Date'], stock_data['Close'], color='blue')\n",
    "    ax1.set_xlabel('Date')\n",
    "    ax1.set_ylabel('Stock Price', color='blue')\n",
    "    ax1.tick_params('y', colors='blue')\n",
    "    plt.xticks(rotation=45)\n",
    "\n",
    "    ax2 = ax1.twinx()\n",
    "    ax2.plot(revenue_data['Quarter'], revenue_data['Revenue'], color='red')\n",
    "    ax2.set_ylabel('Revenue', color='red')\n",
    "    ax2.tick_params('y', colors='red')\n",
    "    plt.title(f'{stock_name} Stock Data')\n",
    "\n",
    "    fig.tight_layout()\n",
    "    plt.show()\n",
    "\n"
   ]
  },
  {
   "cell_type": "code",
   "execution_count": 40,
   "id": "b228e7fd-fdfd-42e6-982d-42742ae04bb6",
   "metadata": {},
   "outputs": [
    {
     "name": "stdout",
     "output_type": "stream",
     "text": [
      "Requirement already satisfied: my_module in /home/jupyterlab/conda/envs/python/lib/python3.7/site-packages (1.6.2)\n",
      "Note: you may need to restart the kernel to use updated packages.\n"
     ]
    }
   ],
   "source": [
    "pip install my_module"
   ]
  },
  {
   "cell_type": "code",
   "execution_count": 41,
   "id": "19eaf3d3-ac2c-435e-bef6-80ef41bd6bcf",
   "metadata": {},
   "outputs": [
    {
     "data": {
      "text/plain": [
       "['/resources/labs/PY0220EN',\n",
       " '/home/jupyterlab/conda/envs/python/lib/python37.zip',\n",
       " '/home/jupyterlab/conda/envs/python/lib/python3.7',\n",
       " '/home/jupyterlab/conda/envs/python/lib/python3.7/lib-dynload',\n",
       " '',\n",
       " '/home/jupyterlab/conda/envs/python/lib/python3.7/site-packages',\n",
       " '/home/jupyterlab/conda/envs/python/lib/python3.7/site-packages/IPython/extensions',\n",
       " '/home/jupyterlab/.ipython']"
      ]
     },
     "execution_count": 41,
     "metadata": {},
     "output_type": "execute_result"
    }
   ],
   "source": [
    "import sys; sys.path"
   ]
  },
  {
   "cell_type": "code",
   "execution_count": 42,
   "id": "5b466443-38ea-469c-bf59-1dcb03fcd5ef",
   "metadata": {},
   "outputs": [],
   "source": [
    "import my_module "
   ]
  },
  {
   "cell_type": "code",
   "execution_count": 43,
   "id": "ac3ade25-11a0-4edf-956e-db81d1278b71",
   "metadata": {},
   "outputs": [
    {
     "name": "stdout",
     "output_type": "stream",
     "text": [
      "Requirement already satisfied: html5lib in /home/jupyterlab/conda/envs/python/lib/python3.7/site-packages (1.1)\n",
      "Requirement already satisfied: webencodings in /home/jupyterlab/conda/envs/python/lib/python3.7/site-packages (from html5lib) (0.5.1)\n",
      "Requirement already satisfied: six>=1.9 in /home/jupyterlab/conda/envs/python/lib/python3.7/site-packages (from html5lib) (1.16.0)\n",
      "Note: you may need to restart the kernel to use updated packages.\n"
     ]
    }
   ],
   "source": [
    "pip install html5lib"
   ]
  },
  {
   "cell_type": "code",
   "execution_count": 44,
   "id": "c1d4ea64-9993-45ca-921b-fd0f180ab1dc",
   "metadata": {},
   "outputs": [
    {
     "name": "stdout",
     "output_type": "stream",
     "text": [
      "Date       datetime64[ns]\n",
      "Revenue           float64\n",
      "dtype: object\n"
     ]
    }
   ],
   "source": [
    "print(tesla_revenue.dtypes)\n"
   ]
  },
  {
   "cell_type": "code",
   "execution_count": 45,
   "id": "c700f420-f5de-4ce2-9239-c70cb042aca6",
   "metadata": {},
   "outputs": [
    {
     "name": "stdout",
     "output_type": "stream",
     "text": [
      "Index(['Date', 'Revenue'], dtype='object')\n"
     ]
    }
   ],
   "source": [
    "print(tesla_revenue.columns)\n"
   ]
  },
  {
   "cell_type": "code",
   "execution_count": 46,
   "id": "3c7c4acf-07ca-4cfa-a557-4057240e6554",
   "metadata": {},
   "outputs": [],
   "source": [
    "tesla_revenue['Revenue'] = tesla_revenue['Revenue'].astype(str)\n"
   ]
  },
  {
   "cell_type": "code",
   "execution_count": 47,
   "id": "7fd352e7-f221-4dba-b246-314f9c618c0f",
   "metadata": {},
   "outputs": [],
   "source": [
    "tesla_revenue['Revenue'] = tesla_revenue['Revenue'].str.strip().str.replace(',|\\$',\"\", regex=True)\n"
   ]
  },
  {
   "cell_type": "code",
   "execution_count": 50,
   "id": "e1b40b1a-2e42-4d45-816e-7509153caa2d",
   "metadata": {},
   "outputs": [],
   "source": [
    "def make_graph(stock_data, revenue_data, stock_name):\n",
    "    fig, ax1 = plt.subplots()\n",
    "    ax1.plot(stock_data['Date'], stock_data['Close'])\n",
    "    ax1.set_xlabel('Date')\n",
    "    ax1.set_ylabel('Stock Price')\n",
    "    ax1.set_title(f'{stock_name} Stock Data')\n",
    "\n",
    "    ax2 = ax1.twinx()\n",
    "    ax2.plot(revenue_data['Date'], revenue_data['Revenue'], color='red')\n",
    "    ax2.set_ylabel('Revenue', color='red')\n",
    "    ax2.tick_params('y', colors='red')\n",
    "\n",
    "    fig.tight_layout()\n"
   ]
  },
  {
   "cell_type": "code",
   "execution_count": 51,
   "id": "10d82918-0ff1-4e1b-8c1b-465ebb40d044",
   "metadata": {},
   "outputs": [
    {
     "data": {
      "text/plain": [
       "Text(0.5, 1.0, 'Tesla Stock Data')"
      ]
     },
     "execution_count": 51,
     "metadata": {},
     "output_type": "execute_result"
    },
    {
     "data": {
      "image/png": "[encoded data removed]",
      "text/plain": [
       "<Figure size 640x480 with 2 Axes>"
      ]
     },
     "metadata": {},
     "output_type": "display_data"
    }
   ],
   "source": [
    "make_graph(tesla_data, tesla_revenue, 'Tesla')\n",
    "plt.title('Tesla Stock Data')"
   ]
  },
  {
   "cell_type": "markdown",
   "id": "c9e237cf-6914-43db-b5cf-c0aaafdbe3ec",
   "metadata": {},
   "source": [
    "## Question 6: Plot GameStop Stock Graph\n"
   ]
  },
  {
   "cell_type": "markdown",
   "id": "7a92ff53-3182-4a8d-b69b-7289e023014b",
   "metadata": {},
   "source": [
    "Use the `make_graph` function to graph the GameStop Stock Data, also provide a title for the graph. The structure to call the `make_graph` function is `make_graph(gme_data, gme_revenue, 'GameStop')`. Note the graph will only show data upto June 2021.\n"
   ]
  },
  {
   "cell_type": "code",
   "execution_count": null,
   "id": "289e1bef-a460-488a-8d21-eaac4b88c151",
   "metadata": {},
   "outputs": [],
   "source": [
    "print(gme_revenue.columns)"
   ]
  },
  {
   "cell_type": "code",
   "execution_count": 15,
   "id": "a2ce3603-8498-44fb-adfc-2de9aeb6a5ce",
   "metadata": {},
   "outputs": [
    {
     "ename": "NameError",
     "evalue": "name 'gme_data' is not defined",
     "output_type": "error",
     "traceback": [
      "\u001b[0;31m---------------------------------------------------------------------------\u001b[0m",
      "\u001b[0;31mNameError\u001b[0m                                 Traceback (most recent call last)",
      "\u001b[0;32m/tmp/ipykernel_1328/1508642891.py\u001b[0m in \u001b[0;36m<module>\u001b[0;34m\u001b[0m\n\u001b[1;32m     13\u001b[0m     \u001b[0mplt\u001b[0m\u001b[0;34m.\u001b[0m\u001b[0mshow\u001b[0m\u001b[0;34m(\u001b[0m\u001b[0;34m)\u001b[0m\u001b[0;34m\u001b[0m\u001b[0;34m\u001b[0m\u001b[0m\n\u001b[1;32m     14\u001b[0m \u001b[0;34m\u001b[0m\u001b[0m\n\u001b[0;32m---> 15\u001b[0;31m \u001b[0mmake_graph\u001b[0m\u001b[0;34m(\u001b[0m\u001b[0mgme_data\u001b[0m\u001b[0;34m[\u001b[0m\u001b[0mgme_data\u001b[0m\u001b[0;34m[\u001b[0m\u001b[0;34m'Date'\u001b[0m\u001b[0;34m]\u001b[0m \u001b[0;34m<=\u001b[0m \u001b[0;34m'2021-06-30'\u001b[0m\u001b[0;34m]\u001b[0m\u001b[0;34m,\u001b[0m \u001b[0mgme_revenue\u001b[0m\u001b[0;34m,\u001b[0m \u001b[0;34m'GameStop'\u001b[0m\u001b[0;34m)\u001b[0m\u001b[0;34m\u001b[0m\u001b[0;34m\u001b[0m\u001b[0m\n\u001b[0m",
      "\u001b[0;31mNameError\u001b[0m: name 'gme_data' is not defined"
     ]
    }
   ],
   "source": [
    "def make_graph(stock_data, revenue_data, stock_name):\n",
    "    fig, ax1 = plt.subplots()\n",
    "    ax2 = ax1.twinx()\n",
    "    \n",
    "    ax1.set_xlabel('Date')\n",
    "    ax1.set_ylabel('Stock Price')\n",
    "    ax2.set_ylabel('Revenue')\n",
    "    \n",
    "    ax1.plot(stock_data['Date'], stock_data['Close'], 'g-')\n",
    "    ax2.plot(revenue_data['Date'], revenue_data['Revenue'], 'b-')\n",
    "    \n",
    "    ax1.set_title(f'{stock_name} Stock Price and Revenue')\n",
    "    plt.show()\n",
    "\n",
    "make_graph(gme_data[gme_data['Date'] <= '2021-06-30'], gme_revenue, 'GameStop')\n"
   ]
  },
  {
   "cell_type": "markdown",
   "id": "2a3dfd40-cc64-45eb-b227-f5fac413302b",
   "metadata": {},
   "source": [
    "<h2>About the Authors:</h2> \n",
    "\n",
    "<a href=\"https://www.linkedin.com/in/joseph-s-50398b136/?utm_medium=Exinfluencer&utm_source=Exinfluencer&utm_content=000026UJ&utm_term=10006555&utm_id=NA-SkillsNetwork-Channel-SkillsNetworkCoursesIBMDeveloperSkillsNetworkPY0220ENSkillsNetwork900-2022-01-01\">Joseph Santarcangelo</a> has a PhD in Electrical Engineering, his research focused on using machine learning, signal processing, and computer vision to determine how videos impact human cognition. Joseph has been working for IBM since he completed his PhD.\n",
    "\n",
    "Azim Hirjani\n"
   ]
  },
  {
   "cell_type": "markdown",
   "id": "f0241bee-799c-4d33-8a95-0d5572066f14",
   "metadata": {},
   "source": [
    "## Change Log\n",
    "\n",
    "| Date (YYYY-MM-DD) | Version | Changed By    | Change Description        |\n",
    "| ----------------- | ------- | ------------- | ------------------------- |\n",
    "| 2022-02-28        | 1.2     | Lakshmi Holla | Changed the URL of GameStop |\n",
    "| 2020-11-10        | 1.1     | Malika Singla | Deleted the Optional part |\n",
    "| 2020-08-27        | 1.0     | Malika Singla | Added lab to GitLab       |\n",
    "\n",
    "<hr>\n",
    "\n",
    "## <h3 align=\"center\"> © IBM Corporation 2020. All rights reserved. <h3/>\n",
    "\n",
    "<p>\n"
   ]
  }
 ],
 "metadata": {
  "kernelspec": {
   "display_name": "Python",
   "language": "python",
   "name": "conda-env-python-py"
  },
  "language_info": {
   "codemirror_mode": {
    "name": "ipython",
    "version": 3
   },
   "file_extension": ".py",
   "mimetype": "text/x-python",
   "name": "python",
   "nbconvert_exporter": "python",
   "pygments_lexer": "ipython3",
   "version": "3.7.12"
  }
 },
 "nbformat": 4,
 "nbformat_minor": 5
}
